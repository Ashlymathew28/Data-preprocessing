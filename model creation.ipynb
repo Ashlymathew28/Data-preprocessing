{
 "cells": [
  {
   "cell_type": "code",
   "execution_count": 4,
   "id": "16edfabd",
   "metadata": {},
   "outputs": [
    {
     "name": "stdout",
     "output_type": "stream",
     "text": [
      "Requirement already satisfied: joblib in c:\\users\\ashly\\anaconda3\\lib\\site-packages (1.1.1)\n"
     ]
    }
   ],
   "source": [
    "!pip install joblib"
   ]
  },
  {
   "cell_type": "code",
   "execution_count": 27,
   "id": "e095eb90",
   "metadata": {
    "scrolled": true
   },
   "outputs": [],
   "source": [
    "import pandas as pd\n",
    "from sklearn.tree import DecisionTreeClassifier\n",
    "import joblib\n",
    "from sklearn import tree\n",
    "\n",
    "data=pd.read_csv('C:/Users/ashly/OneDrive/Desktop/DataScience Anaconda/data preprocessing/music.csv/music.csv')\n",
    "x=data.drop(columns=['genre'])\n",
    "y=data['genre']\n",
    "model=DecisionTreeClassifier()\n",
    "model.fit(x,y)\n",
    "model=joblib.dump(model,'music-recommender.joblib')\n",
    "# predict=model.predict([[21,1]])\n",
    "# predict\n",
    "# model=joblib.load('music_recommender.joblib')\n",
    "# predict=model.predict([[21,1]])\n",
    "# predict"
   ]
  },
  {
   "cell_type": "code",
   "execution_count": 28,
   "id": "65ddd50e",
   "metadata": {},
   "outputs": [
    {
     "name": "stderr",
     "output_type": "stream",
     "text": [
      "C:\\Users\\ashly\\anaconda3\\lib\\site-packages\\sklearn\\base.py:420: UserWarning: X does not have valid feature names, but DecisionTreeClassifier was fitted with feature names\n",
      "  warnings.warn(\n"
     ]
    },
    {
     "data": {
      "text/plain": [
       "array(['HipHop'], dtype=object)"
      ]
     },
     "execution_count": 28,
     "metadata": {},
     "output_type": "execute_result"
    }
   ],
   "source": [
    "model=joblib.load('C:/Users/ashly/OneDrive/Desktop/DataScience Anaconda/data preprocessing/music-recommender.joblib')\n",
    "predictions = model.predict([[21, 1]])\n",
    "predictions"
   ]
  },
  {
   "cell_type": "code",
   "execution_count": 29,
   "id": "ae90651e",
   "metadata": {},
   "outputs": [],
   "source": [
    "# for visualisation\n",
    "tree.export_graphviz(model,out_file='music-recommender.dot',feature_names=['age','gender'],class_names=sorted(y.unique()),label='all',rounded=True,filled=True)"
   ]
  },
  {
   "cell_type": "code",
   "execution_count": null,
   "id": "13087961",
   "metadata": {},
   "outputs": [],
   "source": []
  }
 ],
 "metadata": {
  "kernelspec": {
   "display_name": "Python 3 (ipykernel)",
   "language": "python",
   "name": "python3"
  },
  "language_info": {
   "codemirror_mode": {
    "name": "ipython",
    "version": 3
   },
   "file_extension": ".py",
   "mimetype": "text/x-python",
   "name": "python",
   "nbconvert_exporter": "python",
   "pygments_lexer": "ipython3",
   "version": "3.10.9"
  }
 },
 "nbformat": 4,
 "nbformat_minor": 5
}
